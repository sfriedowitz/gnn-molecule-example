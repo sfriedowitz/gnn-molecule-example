{
 "cells": [
  {
   "cell_type": "markdown",
   "id": "8a517e5f-e53b-4603-9c41-50aaa1a6f120",
   "metadata": {},
   "source": [
    "## Imports"
   ]
  },
  {
   "cell_type": "code",
   "execution_count": 1,
   "id": "87737545-70b8-4373-a862-57460294dbde",
   "metadata": {},
   "outputs": [],
   "source": [
    "%load_ext autoreload\n",
    "%autoreload 2"
   ]
  },
  {
   "cell_type": "markdown",
   "id": "b0f4fdfe-08b8-44fa-adee-31ba774ce7c4",
   "metadata": {
    "jp-MarkdownHeadingCollapsed": true
   },
   "source": [
    "## Oversample Data"
   ]
  },
  {
   "cell_type": "code",
   "execution_count": 90,
   "id": "e8967293-1525-4ebc-aa05-fe2bda126c21",
   "metadata": {},
   "outputs": [
    {
     "data": {
      "text/html": [
       "<div>\n",
       "<style scoped>\n",
       "    .dataframe tbody tr th:only-of-type {\n",
       "        vertical-align: middle;\n",
       "    }\n",
       "\n",
       "    .dataframe tbody tr th {\n",
       "        vertical-align: top;\n",
       "    }\n",
       "\n",
       "    .dataframe thead th {\n",
       "        text-align: right;\n",
       "    }\n",
       "</style>\n",
       "<table border=\"1\" class=\"dataframe\">\n",
       "  <thead>\n",
       "    <tr style=\"text-align: right;\">\n",
       "      <th></th>\n",
       "      <th>index</th>\n",
       "      <th>smiles</th>\n",
       "      <th>activity</th>\n",
       "      <th>HIV_active</th>\n",
       "    </tr>\n",
       "    <tr>\n",
       "      <th>index</th>\n",
       "      <th></th>\n",
       "      <th></th>\n",
       "      <th></th>\n",
       "      <th></th>\n",
       "    </tr>\n",
       "  </thead>\n",
       "  <tbody>\n",
       "    <tr>\n",
       "      <th>3999</th>\n",
       "      <td>3999</td>\n",
       "      <td>CC1c2nc(N)nc(N)c2CN1C(=O)c1ccccc1</td>\n",
       "      <td>CI</td>\n",
       "      <td>0</td>\n",
       "    </tr>\n",
       "    <tr>\n",
       "      <th>4000</th>\n",
       "      <td>4000</td>\n",
       "      <td>Cc1nc(N)c2c(n1)C(C)N(C(=O)c1ccccc1)C2</td>\n",
       "      <td>CI</td>\n",
       "      <td>0</td>\n",
       "    </tr>\n",
       "    <tr>\n",
       "      <th>4001</th>\n",
       "      <td>4001</td>\n",
       "      <td>NC(=S)NN=Cc1ccc(O)cn1</td>\n",
       "      <td>CI</td>\n",
       "      <td>0</td>\n",
       "    </tr>\n",
       "    <tr>\n",
       "      <th>4002</th>\n",
       "      <td>4002</td>\n",
       "      <td>COC1C(OC(=O)c2ccc(C)[nH]2)C(O)C(Oc2ccc3c(O)c(N...</td>\n",
       "      <td>CM</td>\n",
       "      <td>1</td>\n",
       "    </tr>\n",
       "    <tr>\n",
       "      <th>4003</th>\n",
       "      <td>4003</td>\n",
       "      <td>O=C1C=C2C=CC3CC2(O1)C1CCCCN31</td>\n",
       "      <td>CI</td>\n",
       "      <td>0</td>\n",
       "    </tr>\n",
       "  </tbody>\n",
       "</table>\n",
       "</div>"
      ],
      "text/plain": [
       "       index                                             smiles activity  \\\n",
       "index                                                                      \n",
       "3999    3999                  CC1c2nc(N)nc(N)c2CN1C(=O)c1ccccc1       CI   \n",
       "4000    4000              Cc1nc(N)c2c(n1)C(C)N(C(=O)c1ccccc1)C2       CI   \n",
       "4001    4001                              NC(=S)NN=Cc1ccc(O)cn1       CI   \n",
       "4002    4002  COC1C(OC(=O)c2ccc(C)[nH]2)C(O)C(Oc2ccc3c(O)c(N...       CM   \n",
       "4003    4003                      O=C1C=C2C=CC3CC2(O1)C1CCCCN31       CI   \n",
       "\n",
       "       HIV_active  \n",
       "index              \n",
       "3999            0  \n",
       "4000            0  \n",
       "4001            0  \n",
       "4002            1  \n",
       "4003            0  "
      ]
     },
     "execution_count": 90,
     "metadata": {},
     "output_type": "execute_result"
    }
   ],
   "source": [
    "import pandas as pd\n",
    "\n",
    "df = pd.read_csv(\"data/raw/HIV_train.csv\")\n",
    "df.index = df[\"index\"]\n",
    "df[\"HIV_active\"].value_counts()\n",
    "start_index = df.iloc[0][\"index\"]\n",
    "\n",
    "df.head()"
   ]
  },
  {
   "cell_type": "code",
   "execution_count": 92,
   "id": "b5f2c914-249d-471c-8e4f-0ff0580f47c0",
   "metadata": {},
   "outputs": [
    {
     "data": {
      "text/html": [
       "<div>\n",
       "<style scoped>\n",
       "    .dataframe tbody tr th:only-of-type {\n",
       "        vertical-align: middle;\n",
       "    }\n",
       "\n",
       "    .dataframe tbody tr th {\n",
       "        vertical-align: top;\n",
       "    }\n",
       "\n",
       "    .dataframe thead th {\n",
       "        text-align: right;\n",
       "    }\n",
       "</style>\n",
       "<table border=\"1\" class=\"dataframe\">\n",
       "  <thead>\n",
       "    <tr style=\"text-align: right;\">\n",
       "      <th></th>\n",
       "      <th>index</th>\n",
       "      <th>smiles</th>\n",
       "      <th>activity</th>\n",
       "      <th>HIV_active</th>\n",
       "    </tr>\n",
       "  </thead>\n",
       "  <tbody>\n",
       "    <tr>\n",
       "      <th>3999</th>\n",
       "      <td>3999</td>\n",
       "      <td>c1ccc(Nc2nnc(CCCCCCCCc3nnc(Nc4ccccc4)o3)o2)cc1</td>\n",
       "      <td>CI</td>\n",
       "      <td>0</td>\n",
       "    </tr>\n",
       "    <tr>\n",
       "      <th>4000</th>\n",
       "      <td>4000</td>\n",
       "      <td>O=C(C=Cc1ccc(O)c(O)c1)OC1CCCCC1OC(=O)C=Cc1ccc(...</td>\n",
       "      <td>CI</td>\n",
       "      <td>0</td>\n",
       "    </tr>\n",
       "    <tr>\n",
       "      <th>4001</th>\n",
       "      <td>4001</td>\n",
       "      <td>CCOC12CC(OC)C3(O)CC(C1C3OCc1ccccc1)C13C(OC)CC(...</td>\n",
       "      <td>CM</td>\n",
       "      <td>1</td>\n",
       "    </tr>\n",
       "    <tr>\n",
       "      <th>4002</th>\n",
       "      <td>4002</td>\n",
       "      <td>CCOC(=O)CCc1cn2cc(Br)nc(OC)c2n1</td>\n",
       "      <td>CI</td>\n",
       "      <td>0</td>\n",
       "    </tr>\n",
       "    <tr>\n",
       "      <th>4003</th>\n",
       "      <td>4003</td>\n",
       "      <td>Oc1nc2[nH]c(-c3ccc(Br)cc3)cc2c2ccccc12</td>\n",
       "      <td>CI</td>\n",
       "      <td>0</td>\n",
       "    </tr>\n",
       "  </tbody>\n",
       "</table>\n",
       "</div>"
      ],
      "text/plain": [
       "      index                                             smiles activity  \\\n",
       "3999   3999     c1ccc(Nc2nnc(CCCCCCCCc3nnc(Nc4ccccc4)o3)o2)cc1       CI   \n",
       "4000   4000  O=C(C=Cc1ccc(O)c(O)c1)OC1CCCCC1OC(=O)C=Cc1ccc(...       CI   \n",
       "4001   4001  CCOC12CC(OC)C3(O)CC(C1C3OCc1ccccc1)C13C(OC)CC(...       CM   \n",
       "4002   4002                    CCOC(=O)CCc1cn2cc(Br)nc(OC)c2n1       CI   \n",
       "4003   4003             Oc1nc2[nH]c(-c3ccc(Br)cc3)cc2c2ccccc12       CI   \n",
       "\n",
       "      HIV_active  \n",
       "3999           0  \n",
       "4000           0  \n",
       "4001           1  \n",
       "4002           0  \n",
       "4003           0  "
      ]
     },
     "execution_count": 92,
     "metadata": {},
     "output_type": "execute_result"
    }
   ],
   "source": [
    "# Check how many additional samples we need\n",
    "neg_class = df[\"HIV_active\"].value_counts()[0]\n",
    "pos_class = df[\"HIV_active\"].value_counts()[1]\n",
    "multiplier = int(neg_class / pos_class) - 1\n",
    "\n",
    "# Replicate the dataset for the positive class\n",
    "replicated_pos = [df[df[\"HIV_active\"] == 1]] * multiplier\n",
    "\n",
    "# Append replicated data\n",
    "df = pd.concat([df] + replicated_pos, ignore_index=True)\n",
    "\n",
    "# Shuffle dataset\n",
    "df = df.sample(frac=1).reset_index(drop=True)\n",
    "\n",
    "# Re-assign index (This is our ID later)\n",
    "index = range(start_index, start_index + df.shape[0])\n",
    "df.index = index\n",
    "df[\"index\"] = df.index\n",
    "df.head()"
   ]
  },
  {
   "cell_type": "code",
   "execution_count": null,
   "id": "36dce9ad-6bf3-40e5-aa78-6bde2334204c",
   "metadata": {},
   "outputs": [],
   "source": [
    "# df.to_csv(\"data/raw/HIV_train_oversampled.csv\", index=False)"
   ]
  },
  {
   "cell_type": "markdown",
   "id": "a0a0ad59-7256-4a75-b8ed-0913d61d02fb",
   "metadata": {},
   "source": [
    "## Training"
   ]
  },
  {
   "cell_type": "code",
   "execution_count": 69,
   "id": "9252712f-2a51-4e7a-9771-ced2dd6a08c3",
   "metadata": {},
   "outputs": [],
   "source": [
    "dataset = MoleculeDataset(root=\"data\", filename=\"HIV_train_oversampled.csv\", test=False)"
   ]
  },
  {
   "cell_type": "code",
   "execution_count": 70,
   "id": "584dd55f-b3e9-4852-80ec-bdac92b2fb48",
   "metadata": {},
   "outputs": [
    {
     "data": {
      "text/plain": [
       "Data(x=[75, 30], edge_index=[2, 162], edge_attr=[162, 11], y=[1], smiles='O=C(Nc1ccc(C=Cc2ccc(NC(=O)c3ccc(N=Nc4cc(S(=O)(=O)O)c5cccnc5c4O)cc3)cc2S(=O)(=O)O)c(S(=O)(=O)O)c1)c1ccc(N=Nc2cc(S(=O)(=O)O)c3cccnc3c2O)cc1.[NaH]')"
      ]
     },
     "execution_count": 70,
     "metadata": {},
     "output_type": "execute_result"
    }
   ],
   "source": [
    "data = dataset.get(0)\n",
    "data"
   ]
  },
  {
   "cell_type": "code",
   "execution_count": 82,
   "id": "56577c7f-c7a4-4668-8a13-f3af53c0a900",
   "metadata": {},
   "outputs": [
    {
     "data": {
      "text/plain": [
       "(30, 11)"
      ]
     },
     "execution_count": 82,
     "metadata": {},
     "output_type": "execute_result"
    }
   ],
   "source": [
    "feature_size = data.x.shape[1]\n",
    "edge_size = data.edge_attr.shape[1]\n",
    "\n",
    "(feature_size, edge_size)"
   ]
  },
  {
   "cell_type": "code",
   "execution_count": 83,
   "id": "061d5e33-d0ec-4c71-9b0b-d36e7d62d560",
   "metadata": {},
   "outputs": [],
   "source": [
    "hypers = ModelParameters()\n",
    "gnn = GNN(feature_size, edge_size, hypers)"
   ]
  },
  {
   "cell_type": "code",
   "execution_count": 84,
   "id": "ee11306b-9f1f-411b-a1c4-8519e591d03f",
   "metadata": {},
   "outputs": [
    {
     "data": {
      "text/plain": [
       "tensor([[-0.0301]], grad_fn=<AddmmBackward0>)"
      ]
     },
     "execution_count": 84,
     "metadata": {},
     "output_type": "execute_result"
    }
   ],
   "source": [
    "gnn(data.x, data.edge_index, data.edge_attr)"
   ]
  },
  {
   "cell_type": "code",
   "execution_count": null,
   "id": "490cc46f-3f5c-4c93-b2d7-e8442b63d031",
   "metadata": {},
   "outputs": [],
   "source": []
  },
  {
   "cell_type": "code",
   "execution_count": null,
   "id": "e4a12038-7e56-444d-943d-6c013f8e28df",
   "metadata": {},
   "outputs": [],
   "source": []
  },
  {
   "cell_type": "code",
   "execution_count": null,
   "id": "1b8fa0a0-4bb6-460b-b15c-b3ca8264b3d2",
   "metadata": {},
   "outputs": [],
   "source": []
  }
 ],
 "metadata": {
  "kernelspec": {
   "display_name": "Python 3 (ipykernel)",
   "language": "python",
   "name": "python3"
  },
  "language_info": {
   "codemirror_mode": {
    "name": "ipython",
    "version": 3
   },
   "file_extension": ".py",
   "mimetype": "text/x-python",
   "name": "python",
   "nbconvert_exporter": "python",
   "pygments_lexer": "ipython3",
   "version": "3.11.4"
  }
 },
 "nbformat": 4,
 "nbformat_minor": 5
}
