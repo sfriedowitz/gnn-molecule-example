{
 "cells": [
  {
   "cell_type": "markdown",
   "id": "8a517e5f-e53b-4603-9c41-50aaa1a6f120",
   "metadata": {},
   "source": [
    "## Imports"
   ]
  },
  {
   "cell_type": "code",
   "execution_count": 1,
   "id": "87737545-70b8-4373-a862-57460294dbde",
   "metadata": {},
   "outputs": [],
   "source": [
    "%load_ext autoreload\n",
    "%autoreload 2"
   ]
  },
  {
   "cell_type": "markdown",
   "id": "b0f4fdfe-08b8-44fa-adee-31ba774ce7c4",
   "metadata": {
    "jp-MarkdownHeadingCollapsed": true
   },
   "source": [
    "## Oversample Data"
   ]
  },
  {
   "cell_type": "code",
   "execution_count": 90,
   "id": "e8967293-1525-4ebc-aa05-fe2bda126c21",
   "metadata": {},
   "outputs": [
    {
     "data": {
      "text/html": [
       "<div>\n",
       "<style scoped>\n",
       "    .dataframe tbody tr th:only-of-type {\n",
       "        vertical-align: middle;\n",
       "    }\n",
       "\n",
       "    .dataframe tbody tr th {\n",
       "        vertical-align: top;\n",
       "    }\n",
       "\n",
       "    .dataframe thead th {\n",
       "        text-align: right;\n",
       "    }\n",
       "</style>\n",
       "<table border=\"1\" class=\"dataframe\">\n",
       "  <thead>\n",
       "    <tr style=\"text-align: right;\">\n",
       "      <th></th>\n",
       "      <th>index</th>\n",
       "      <th>smiles</th>\n",
       "      <th>activity</th>\n",
       "      <th>HIV_active</th>\n",
       "    </tr>\n",
       "    <tr>\n",
       "      <th>index</th>\n",
       "      <th></th>\n",
       "      <th></th>\n",
       "      <th></th>\n",
       "      <th></th>\n",
       "    </tr>\n",
       "  </thead>\n",
       "  <tbody>\n",
       "    <tr>\n",
       "      <th>3999</th>\n",
       "      <td>3999</td>\n",
       "      <td>CC1c2nc(N)nc(N)c2CN1C(=O)c1ccccc1</td>\n",
       "      <td>CI</td>\n",
       "      <td>0</td>\n",
       "    </tr>\n",
       "    <tr>\n",
       "      <th>4000</th>\n",
       "      <td>4000</td>\n",
       "      <td>Cc1nc(N)c2c(n1)C(C)N(C(=O)c1ccccc1)C2</td>\n",
       "      <td>CI</td>\n",
       "      <td>0</td>\n",
       "    </tr>\n",
       "    <tr>\n",
       "      <th>4001</th>\n",
       "      <td>4001</td>\n",
       "      <td>NC(=S)NN=Cc1ccc(O)cn1</td>\n",
       "      <td>CI</td>\n",
       "      <td>0</td>\n",
       "    </tr>\n",
       "    <tr>\n",
       "      <th>4002</th>\n",
       "      <td>4002</td>\n",
       "      <td>COC1C(OC(=O)c2ccc(C)[nH]2)C(O)C(Oc2ccc3c(O)c(N...</td>\n",
       "      <td>CM</td>\n",
       "      <td>1</td>\n",
       "    </tr>\n",
       "    <tr>\n",
       "      <th>4003</th>\n",
       "      <td>4003</td>\n",
       "      <td>O=C1C=C2C=CC3CC2(O1)C1CCCCN31</td>\n",
       "      <td>CI</td>\n",
       "      <td>0</td>\n",
       "    </tr>\n",
       "  </tbody>\n",
       "</table>\n",
       "</div>"
      ],
      "text/plain": [
       "       index                                             smiles activity  \\\n",
       "index                                                                      \n",
       "3999    3999                  CC1c2nc(N)nc(N)c2CN1C(=O)c1ccccc1       CI   \n",
       "4000    4000              Cc1nc(N)c2c(n1)C(C)N(C(=O)c1ccccc1)C2       CI   \n",
       "4001    4001                              NC(=S)NN=Cc1ccc(O)cn1       CI   \n",
       "4002    4002  COC1C(OC(=O)c2ccc(C)[nH]2)C(O)C(Oc2ccc3c(O)c(N...       CM   \n",
       "4003    4003                      O=C1C=C2C=CC3CC2(O1)C1CCCCN31       CI   \n",
       "\n",
       "       HIV_active  \n",
       "index              \n",
       "3999            0  \n",
       "4000            0  \n",
       "4001            0  \n",
       "4002            1  \n",
       "4003            0  "
      ]
     },
     "execution_count": 90,
     "metadata": {},
     "output_type": "execute_result"
    }
   ],
   "source": [
    "import pandas as pd\n",
    "\n",
    "df = pd.read_csv(\"data/raw/HIV_train.csv\")\n",
    "df.index = df[\"index\"]\n",
    "df[\"HIV_active\"].value_counts()\n",
    "start_index = df.iloc[0][\"index\"]\n",
    "\n",
    "df.head()"
   ]
  },
  {
   "cell_type": "code",
   "execution_count": 92,
   "id": "b5f2c914-249d-471c-8e4f-0ff0580f47c0",
   "metadata": {},
   "outputs": [
    {
     "data": {
      "text/html": [
       "<div>\n",
       "<style scoped>\n",
       "    .dataframe tbody tr th:only-of-type {\n",
       "        vertical-align: middle;\n",
       "    }\n",
       "\n",
       "    .dataframe tbody tr th {\n",
       "        vertical-align: top;\n",
       "    }\n",
       "\n",
       "    .dataframe thead th {\n",
       "        text-align: right;\n",
       "    }\n",
       "</style>\n",
       "<table border=\"1\" class=\"dataframe\">\n",
       "  <thead>\n",
       "    <tr style=\"text-align: right;\">\n",
       "      <th></th>\n",
       "      <th>index</th>\n",
       "      <th>smiles</th>\n",
       "      <th>activity</th>\n",
       "      <th>HIV_active</th>\n",
       "    </tr>\n",
       "  </thead>\n",
       "  <tbody>\n",
       "    <tr>\n",
       "      <th>3999</th>\n",
       "      <td>3999</td>\n",
       "      <td>c1ccc(Nc2nnc(CCCCCCCCc3nnc(Nc4ccccc4)o3)o2)cc1</td>\n",
       "      <td>CI</td>\n",
       "      <td>0</td>\n",
       "    </tr>\n",
       "    <tr>\n",
       "      <th>4000</th>\n",
       "      <td>4000</td>\n",
       "      <td>O=C(C=Cc1ccc(O)c(O)c1)OC1CCCCC1OC(=O)C=Cc1ccc(...</td>\n",
       "      <td>CI</td>\n",
       "      <td>0</td>\n",
       "    </tr>\n",
       "    <tr>\n",
       "      <th>4001</th>\n",
       "      <td>4001</td>\n",
       "      <td>CCOC12CC(OC)C3(O)CC(C1C3OCc1ccccc1)C13C(OC)CC(...</td>\n",
       "      <td>CM</td>\n",
       "      <td>1</td>\n",
       "    </tr>\n",
       "    <tr>\n",
       "      <th>4002</th>\n",
       "      <td>4002</td>\n",
       "      <td>CCOC(=O)CCc1cn2cc(Br)nc(OC)c2n1</td>\n",
       "      <td>CI</td>\n",
       "      <td>0</td>\n",
       "    </tr>\n",
       "    <tr>\n",
       "      <th>4003</th>\n",
       "      <td>4003</td>\n",
       "      <td>Oc1nc2[nH]c(-c3ccc(Br)cc3)cc2c2ccccc12</td>\n",
       "      <td>CI</td>\n",
       "      <td>0</td>\n",
       "    </tr>\n",
       "  </tbody>\n",
       "</table>\n",
       "</div>"
      ],
      "text/plain": [
       "      index                                             smiles activity  \\\n",
       "3999   3999     c1ccc(Nc2nnc(CCCCCCCCc3nnc(Nc4ccccc4)o3)o2)cc1       CI   \n",
       "4000   4000  O=C(C=Cc1ccc(O)c(O)c1)OC1CCCCC1OC(=O)C=Cc1ccc(...       CI   \n",
       "4001   4001  CCOC12CC(OC)C3(O)CC(C1C3OCc1ccccc1)C13C(OC)CC(...       CM   \n",
       "4002   4002                    CCOC(=O)CCc1cn2cc(Br)nc(OC)c2n1       CI   \n",
       "4003   4003             Oc1nc2[nH]c(-c3ccc(Br)cc3)cc2c2ccccc12       CI   \n",
       "\n",
       "      HIV_active  \n",
       "3999           0  \n",
       "4000           0  \n",
       "4001           1  \n",
       "4002           0  \n",
       "4003           0  "
      ]
     },
     "execution_count": 92,
     "metadata": {},
     "output_type": "execute_result"
    }
   ],
   "source": [
    "# Check how many additional samples we need\n",
    "neg_class = df[\"HIV_active\"].value_counts()[0]\n",
    "pos_class = df[\"HIV_active\"].value_counts()[1]\n",
    "multiplier = int(neg_class / pos_class) - 1\n",
    "\n",
    "# Replicate the dataset for the positive class\n",
    "replicated_pos = [df[df[\"HIV_active\"] == 1]] * multiplier\n",
    "\n",
    "# Append replicated data\n",
    "df = pd.concat([df] + replicated_pos, ignore_index=True)\n",
    "\n",
    "# Shuffle dataset\n",
    "df = df.sample(frac=1).reset_index(drop=True)\n",
    "\n",
    "# Re-assign index (This is our ID later)\n",
    "index = range(start_index, start_index + df.shape[0])\n",
    "df.index = index\n",
    "df[\"index\"] = df.index\n",
    "df.head()"
   ]
  },
  {
   "cell_type": "code",
   "execution_count": null,
   "id": "36dce9ad-6bf3-40e5-aa78-6bde2334204c",
   "metadata": {},
   "outputs": [],
   "source": [
    "# df.to_csv(\"data/raw/HIV_train_oversampled.csv\", index=False)"
   ]
  },
  {
   "cell_type": "markdown",
   "id": "a0a0ad59-7256-4a75-b8ed-0913d61d02fb",
   "metadata": {},
   "source": [
    "## Training"
   ]
  },
  {
   "cell_type": "code",
   "execution_count": 1,
   "id": "1c764cc2-6de3-4ee2-a19a-0c86375f0cc8",
   "metadata": {},
   "outputs": [
    {
     "name": "stderr",
     "output_type": "stream",
     "text": [
      "2023-07-23 20:36:39.348847: I tensorflow/core/platform/cpu_feature_guard.cc:182] This TensorFlow binary is optimized to use available CPU instructions in performance-critical operations.\n",
      "To enable the following instructions: AVX2 FMA, in other operations, rebuild TensorFlow with the appropriate compiler flags.\n",
      "2023-07-23 20:36:39.923748: W tensorflow/compiler/tf2tensorrt/utils/py_utils.cc:38] TF-TRT Warning: Could not find TensorRT\n",
      "\u001b[32m2023-07-23 20:36:40.477\u001b[0m | \u001b[1mINFO    \u001b[0m | \u001b[36mproject.train\u001b[0m:\u001b[36m<module>\u001b[0m:\u001b[36m22\u001b[0m - \u001b[1mUsing device: cuda:0\u001b[0m\n"
     ]
    }
   ],
   "source": [
    "from project.config import TrainingConfig\n",
    "from project.train import train_model\n",
    "\n",
    "import warnings\n",
    "warnings.filterwarnings(action=\"ignore\")"
   ]
  },
  {
   "cell_type": "code",
   "execution_count": null,
   "id": "7e31fad8-3de7-481a-a5a4-45de1a8ec183",
   "metadata": {},
   "outputs": [
    {
     "name": "stderr",
     "output_type": "stream",
     "text": [
      "\u001b[32m2023-07-23 20:36:42.911\u001b[0m | \u001b[1mINFO    \u001b[0m | \u001b[36mproject.train\u001b[0m:\u001b[36mtrain_model\u001b[0m:\u001b[36m129\u001b[0m - \u001b[1mLoading the dataset...\u001b[0m\n",
      "\u001b[32m2023-07-23 20:36:44.771\u001b[0m | \u001b[1mINFO    \u001b[0m | \u001b[36mproject.train\u001b[0m:\u001b[36mtrain_model\u001b[0m:\u001b[36m146\u001b[0m - \u001b[1mConstructed model with 365633 parameters\u001b[0m\n",
      "100%|███████████████████████████████████████████████████████████████████████████████████████████████████| 560/560 [00:30<00:00, 18.39it/s]\n",
      "\u001b[32m2023-07-23 20:37:15.289\u001b[0m | \u001b[1mINFO    \u001b[0m | \u001b[36mproject.train\u001b[0m:\u001b[36mtrain_model\u001b[0m:\u001b[36m168\u001b[0m - \u001b[1mEpoch 0 | Train Loss 0.7824822069278785\u001b[0m\n",
      "100%|█████████████████████████████████████████████████████████████████████████████████████████████████████| 32/32 [00:01<00:00, 20.42it/s]\n",
      "\u001b[32m2023-07-23 20:37:16.875\u001b[0m | \u001b[1mINFO    \u001b[0m | \u001b[36mproject.train\u001b[0m:\u001b[36mtrain_model\u001b[0m:\u001b[36m176\u001b[0m - \u001b[1mEpoch 0 | Test Loss 0.7187392804771662\u001b[0m\n",
      "100%|███████████████████████████████████████████████████████████████████████████████████████████████████| 560/560 [00:29<00:00, 18.68it/s]\n",
      "\u001b[32m2023-07-23 20:37:49.836\u001b[0m | \u001b[1mINFO    \u001b[0m | \u001b[36mproject.train\u001b[0m:\u001b[36mtrain_model\u001b[0m:\u001b[36m168\u001b[0m - \u001b[1mEpoch 1 | Train Loss 0.7823747909494809\u001b[0m\n",
      "100%|███████████████████████████████████████████████████████████████████████████████████████████████████| 560/560 [00:30<00:00, 18.63it/s]\n",
      "\u001b[32m2023-07-23 20:38:19.967\u001b[0m | \u001b[1mINFO    \u001b[0m | \u001b[36mproject.train\u001b[0m:\u001b[36mtrain_model\u001b[0m:\u001b[36m168\u001b[0m - \u001b[1mEpoch 2 | Train Loss 0.7820947826973029\u001b[0m\n",
      "100%|███████████████████████████████████████████████████████████████████████████████████████████████████| 560/560 [00:30<00:00, 18.56it/s]\n",
      "\u001b[32m2023-07-23 20:38:50.204\u001b[0m | \u001b[1mINFO    \u001b[0m | \u001b[36mproject.train\u001b[0m:\u001b[36mtrain_model\u001b[0m:\u001b[36m168\u001b[0m - \u001b[1mEpoch 3 | Train Loss 0.7821421432707991\u001b[0m\n",
      "100%|███████████████████████████████████████████████████████████████████████████████████████████████████| 560/560 [00:30<00:00, 18.35it/s]\n",
      "\u001b[32m2023-07-23 20:39:20.795\u001b[0m | \u001b[1mINFO    \u001b[0m | \u001b[36mproject.train\u001b[0m:\u001b[36mtrain_model\u001b[0m:\u001b[36m168\u001b[0m - \u001b[1mEpoch 4 | Train Loss 0.7820377212549959\u001b[0m\n",
      "100%|███████████████████████████████████████████████████████████████████████████████████████████████████| 560/560 [00:30<00:00, 18.56it/s]\n",
      "\u001b[32m2023-07-23 20:39:51.041\u001b[0m | \u001b[1mINFO    \u001b[0m | \u001b[36mproject.train\u001b[0m:\u001b[36mtrain_model\u001b[0m:\u001b[36m168\u001b[0m - \u001b[1mEpoch 5 | Train Loss 0.7817179919353553\u001b[0m\n",
      "100%|█████████████████████████████████████████████████████████████████████████████████████████████████████| 32/32 [00:01<00:00, 18.77it/s]\n",
      "\u001b[32m2023-07-23 20:39:52.766\u001b[0m | \u001b[1mINFO    \u001b[0m | \u001b[36mproject.train\u001b[0m:\u001b[36mtrain_model\u001b[0m:\u001b[36m176\u001b[0m - \u001b[1mEpoch 5 | Test Loss 0.7184777427464724\u001b[0m\n",
      "100%|███████████████████████████████████████████████████████████████████████████████████████████████████| 560/560 [00:29<00:00, 18.86it/s]\n",
      "\u001b[32m2023-07-23 20:40:25.225\u001b[0m | \u001b[1mINFO    \u001b[0m | \u001b[36mproject.train\u001b[0m:\u001b[36mtrain_model\u001b[0m:\u001b[36m168\u001b[0m - \u001b[1mEpoch 6 | Train Loss 0.7817089952528476\u001b[0m\n",
      "100%|███████████████████████████████████████████████████████████████████████████████████████████████████| 560/560 [00:29<00:00, 18.68it/s]\n",
      "\u001b[32m2023-07-23 20:40:55.269\u001b[0m | \u001b[1mINFO    \u001b[0m | \u001b[36mproject.train\u001b[0m:\u001b[36mtrain_model\u001b[0m:\u001b[36m168\u001b[0m - \u001b[1mEpoch 7 | Train Loss 0.7821237494902952\u001b[0m\n",
      "100%|███████████████████████████████████████████████████████████████████████████████████████████████████| 560/560 [00:30<00:00, 18.54it/s]\n",
      "\u001b[32m2023-07-23 20:41:25.535\u001b[0m | \u001b[1mINFO    \u001b[0m | \u001b[36mproject.train\u001b[0m:\u001b[36mtrain_model\u001b[0m:\u001b[36m168\u001b[0m - \u001b[1mEpoch 8 | Train Loss 0.7820844903588295\u001b[0m\n",
      "100%|███████████████████████████████████████████████████████████████████████████████████████████████████| 560/560 [00:31<00:00, 17.98it/s]\n",
      "\u001b[32m2023-07-23 20:41:56.755\u001b[0m | \u001b[1mINFO    \u001b[0m | \u001b[36mproject.train\u001b[0m:\u001b[36mtrain_model\u001b[0m:\u001b[36m168\u001b[0m - \u001b[1mEpoch 9 | Train Loss 0.7822717238749777\u001b[0m\n",
      "100%|███████████████████████████████████████████████████████████████████████████████████████████████████| 560/560 [00:30<00:00, 18.20it/s]\n",
      "\u001b[32m2023-07-23 20:42:27.588\u001b[0m | \u001b[1mINFO    \u001b[0m | \u001b[36mproject.train\u001b[0m:\u001b[36mtrain_model\u001b[0m:\u001b[36m168\u001b[0m - \u001b[1mEpoch 10 | Train Loss 0.781882944809539\u001b[0m\n",
      "100%|█████████████████████████████████████████████████████████████████████████████████████████████████████| 32/32 [00:01<00:00, 19.99it/s]\n",
      "\u001b[32m2023-07-23 20:42:29.210\u001b[0m | \u001b[1mINFO    \u001b[0m | \u001b[36mproject.train\u001b[0m:\u001b[36mtrain_model\u001b[0m:\u001b[36m176\u001b[0m - \u001b[1mEpoch 10 | Test Loss 0.7183858677744865\u001b[0m\n",
      "100%|███████████████████████████████████████████████████████████████████████████████████████████████████| 560/560 [00:31<00:00, 17.93it/s]\n",
      "\u001b[32m2023-07-23 20:43:03.116\u001b[0m | \u001b[1mINFO    \u001b[0m | \u001b[36mproject.train\u001b[0m:\u001b[36mtrain_model\u001b[0m:\u001b[36m168\u001b[0m - \u001b[1mEpoch 11 | Train Loss 0.7821267142891883\u001b[0m\n",
      "100%|███████████████████████████████████████████████████████████████████████████████████████████████████| 560/560 [00:30<00:00, 18.21it/s]\n",
      "\u001b[32m2023-07-23 20:43:33.943\u001b[0m | \u001b[1mINFO    \u001b[0m | \u001b[36mproject.train\u001b[0m:\u001b[36mtrain_model\u001b[0m:\u001b[36m168\u001b[0m - \u001b[1mEpoch 12 | Train Loss 0.7821471390979631\u001b[0m\n",
      "100%|███████████████████████████████████████████████████████████████████████████████████████████████████| 560/560 [00:31<00:00, 17.71it/s]\n",
      "\u001b[32m2023-07-23 20:44:05.631\u001b[0m | \u001b[1mINFO    \u001b[0m | \u001b[36mproject.train\u001b[0m:\u001b[36mtrain_model\u001b[0m:\u001b[36m168\u001b[0m - \u001b[1mEpoch 13 | Train Loss 0.7820833510586194\u001b[0m\n",
      "100%|███████████████████████████████████████████████████████████████████████████████████████████████████| 560/560 [00:31<00:00, 17.78it/s]\n",
      "\u001b[32m2023-07-23 20:44:37.200\u001b[0m | \u001b[1mINFO    \u001b[0m | \u001b[36mproject.train\u001b[0m:\u001b[36mtrain_model\u001b[0m:\u001b[36m168\u001b[0m - \u001b[1mEpoch 14 | Train Loss 0.7822265455765384\u001b[0m\n",
      "100%|███████████████████████████████████████████████████████████████████████████████████████████████████| 560/560 [00:31<00:00, 17.82it/s]\n",
      "\u001b[32m2023-07-23 20:45:08.690\u001b[0m | \u001b[1mINFO    \u001b[0m | \u001b[36mproject.train\u001b[0m:\u001b[36mtrain_model\u001b[0m:\u001b[36m168\u001b[0m - \u001b[1mEpoch 15 | Train Loss 0.7823351641850812\u001b[0m\n",
      "100%|█████████████████████████████████████████████████████████████████████████████████████████████████████| 32/32 [00:01<00:00, 18.90it/s]\n",
      "\u001b[32m2023-07-23 20:45:10.403\u001b[0m | \u001b[1mINFO    \u001b[0m | \u001b[36mproject.train\u001b[0m:\u001b[36mtrain_model\u001b[0m:\u001b[36m176\u001b[0m - \u001b[1mEpoch 15 | Test Loss 0.7185885943472385\u001b[0m\n",
      "100%|███████████████████████████████████████████████████████████████████████████████████████████████████| 560/560 [00:31<00:00, 17.61it/s]\n",
      "\u001b[32m2023-07-23 20:45:42.271\u001b[0m | \u001b[1mINFO    \u001b[0m | \u001b[36mproject.train\u001b[0m:\u001b[36mtrain_model\u001b[0m:\u001b[36m168\u001b[0m - \u001b[1mEpoch 16 | Train Loss 0.7820619503302234\u001b[0m\n",
      "100%|███████████████████████████████████████████████████████████████████████████████████████████████████| 560/560 [00:31<00:00, 17.71it/s]\n",
      "\u001b[32m2023-07-23 20:46:13.965\u001b[0m | \u001b[1mINFO    \u001b[0m | \u001b[36mproject.train\u001b[0m:\u001b[36mtrain_model\u001b[0m:\u001b[36m168\u001b[0m - \u001b[1mEpoch 17 | Train Loss 0.7821453878922122\u001b[0m\n",
      "100%|███████████████████████████████████████████████████████████████████████████████████████████████████| 560/560 [00:31<00:00, 17.77it/s]\n",
      "\u001b[32m2023-07-23 20:46:45.555\u001b[0m | \u001b[1mINFO    \u001b[0m | \u001b[36mproject.train\u001b[0m:\u001b[36mtrain_model\u001b[0m:\u001b[36m168\u001b[0m - \u001b[1mEpoch 18 | Train Loss 0.782257041228669\u001b[0m\n",
      "100%|███████████████████████████████████████████████████████████████████████████████████████████████████| 560/560 [00:31<00:00, 17.82it/s]\n",
      "\u001b[32m2023-07-23 20:47:17.046\u001b[0m | \u001b[1mINFO    \u001b[0m | \u001b[36mproject.train\u001b[0m:\u001b[36mtrain_model\u001b[0m:\u001b[36m168\u001b[0m - \u001b[1mEpoch 19 | Train Loss 0.7819886057504586\u001b[0m\n",
      "100%|███████████████████████████████████████████████████████████████████████████████████████████████████| 560/560 [00:30<00:00, 18.37it/s]\n",
      "\u001b[32m2023-07-23 20:47:47.604\u001b[0m | \u001b[1mINFO    \u001b[0m | \u001b[36mproject.train\u001b[0m:\u001b[36mtrain_model\u001b[0m:\u001b[36m168\u001b[0m - \u001b[1mEpoch 20 | Train Loss 0.782314274672951\u001b[0m\n",
      "100%|█████████████████████████████████████████████████████████████████████████████████████████████████████| 32/32 [00:01<00:00, 19.47it/s]\n",
      "\u001b[32m2023-07-23 20:47:49.267\u001b[0m | \u001b[1mINFO    \u001b[0m | \u001b[36mproject.train\u001b[0m:\u001b[36mtrain_model\u001b[0m:\u001b[36m176\u001b[0m - \u001b[1mEpoch 20 | Test Loss 0.7187462951987982\u001b[0m\n",
      "100%|███████████████████████████████████████████████████████████████████████████████████████████████████| 560/560 [00:30<00:00, 18.29it/s]\n",
      "\u001b[32m2023-07-23 20:48:19.953\u001b[0m | \u001b[1mINFO    \u001b[0m | \u001b[36mproject.train\u001b[0m:\u001b[36mtrain_model\u001b[0m:\u001b[36m168\u001b[0m - \u001b[1mEpoch 21 | Train Loss 0.7820403775998525\u001b[0m\n",
      "100%|███████████████████████████████████████████████████████████████████████████████████████████████████| 560/560 [00:30<00:00, 18.18it/s]\n",
      "\u001b[32m2023-07-23 20:48:50.826\u001b[0m | \u001b[1mINFO    \u001b[0m | \u001b[36mproject.train\u001b[0m:\u001b[36mtrain_model\u001b[0m:\u001b[36m168\u001b[0m - \u001b[1mEpoch 22 | Train Loss 0.7819683983922004\u001b[0m\n",
      "100%|███████████████████████████████████████████████████████████████████████████████████████████████████| 560/560 [00:30<00:00, 18.24it/s]\n",
      "\u001b[32m2023-07-23 20:49:21.595\u001b[0m | \u001b[1mINFO    \u001b[0m | \u001b[36mproject.train\u001b[0m:\u001b[36mtrain_model\u001b[0m:\u001b[36m168\u001b[0m - \u001b[1mEpoch 23 | Train Loss 0.7820279306599072\u001b[0m\n",
      "100%|███████████████████████████████████████████████████████████████████████████████████████████████████| 560/560 [00:30<00:00, 18.22it/s]\n",
      "\u001b[32m2023-07-23 20:49:52.401\u001b[0m | \u001b[1mINFO    \u001b[0m | \u001b[36mproject.train\u001b[0m:\u001b[36mtrain_model\u001b[0m:\u001b[36m168\u001b[0m - \u001b[1mEpoch 24 | Train Loss 0.7822170025535993\u001b[0m\n",
      "100%|███████████████████████████████████████████████████████████████████████████████████████████████████| 560/560 [00:30<00:00, 18.10it/s]\n",
      "\u001b[32m2023-07-23 20:50:23.423\u001b[0m | \u001b[1mINFO    \u001b[0m | \u001b[36mproject.train\u001b[0m:\u001b[36mtrain_model\u001b[0m:\u001b[36m168\u001b[0m - \u001b[1mEpoch 25 | Train Loss 0.7823295930666583\u001b[0m\n",
      "100%|█████████████████████████████████████████████████████████████████████████████████████████████████████| 32/32 [00:01<00:00, 18.58it/s]\n",
      "\u001b[32m2023-07-23 20:50:25.166\u001b[0m | \u001b[1mINFO    \u001b[0m | \u001b[36mproject.train\u001b[0m:\u001b[36mtrain_model\u001b[0m:\u001b[36m176\u001b[0m - \u001b[1mEpoch 25 | Test Loss 0.7186080887913704\u001b[0m\n",
      "100%|███████████████████████████████████████████████████████████████████████████████████████████████████| 560/560 [00:31<00:00, 18.02it/s]\n",
      "\u001b[32m2023-07-23 20:50:56.304\u001b[0m | \u001b[1mINFO    \u001b[0m | \u001b[36mproject.train\u001b[0m:\u001b[36mtrain_model\u001b[0m:\u001b[36m168\u001b[0m - \u001b[1mEpoch 26 | Train Loss 0.7819550693035126\u001b[0m\n",
      "100%|███████████████████████████████████████████████████████████████████████████████████████████████████| 560/560 [00:30<00:00, 18.18it/s]\n",
      "\u001b[32m2023-07-23 20:51:27.175\u001b[0m | \u001b[1mINFO    \u001b[0m | \u001b[36mproject.train\u001b[0m:\u001b[36mtrain_model\u001b[0m:\u001b[36m168\u001b[0m - \u001b[1mEpoch 27 | Train Loss 0.7823510068867888\u001b[0m\n",
      "100%|███████████████████████████████████████████████████████████████████████████████████████████████████| 560/560 [00:30<00:00, 18.33it/s]\n",
      "\u001b[32m2023-07-23 20:51:57.793\u001b[0m | \u001b[1mINFO    \u001b[0m | \u001b[36mproject.train\u001b[0m:\u001b[36mtrain_model\u001b[0m:\u001b[36m168\u001b[0m - \u001b[1mEpoch 28 | Train Loss 0.7819254821964673\u001b[0m\n",
      " 94%|████████████████████████████████████████████████████████████████████████████████████████████▊      | 525/560 [00:28<00:01, 19.33it/s]"
     ]
    }
   ],
   "source": [
    "config = TrainingConfig()\n",
    "\n",
    "train_model(config, n_epochs=100)"
   ]
  },
  {
   "cell_type": "code",
   "execution_count": null,
   "id": "0acceca3-3404-4006-afbc-1f7a4f89a565",
   "metadata": {},
   "outputs": [],
   "source": []
  },
  {
   "cell_type": "code",
   "execution_count": null,
   "id": "1b8fa0a0-4bb6-460b-b15c-b3ca8264b3d2",
   "metadata": {},
   "outputs": [],
   "source": []
  }
 ],
 "metadata": {
  "kernelspec": {
   "display_name": "Python 3 (ipykernel)",
   "language": "python",
   "name": "python3"
  },
  "language_info": {
   "codemirror_mode": {
    "name": "ipython",
    "version": 3
   },
   "file_extension": ".py",
   "mimetype": "text/x-python",
   "name": "python",
   "nbconvert_exporter": "python",
   "pygments_lexer": "ipython3",
   "version": "3.11.4"
  }
 },
 "nbformat": 4,
 "nbformat_minor": 5
}
