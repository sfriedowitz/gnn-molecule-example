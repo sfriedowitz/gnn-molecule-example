{
 "cells": [
  {
   "cell_type": "markdown",
   "id": "8a517e5f-e53b-4603-9c41-50aaa1a6f120",
   "metadata": {},
   "source": [
    "## Imports"
   ]
  },
  {
   "cell_type": "code",
   "execution_count": 1,
   "id": "87737545-70b8-4373-a862-57460294dbde",
   "metadata": {},
   "outputs": [],
   "source": [
    "%load_ext autoreload\n",
    "%autoreload 2"
   ]
  },
  {
   "cell_type": "markdown",
   "id": "b0f4fdfe-08b8-44fa-adee-31ba774ce7c4",
   "metadata": {
    "jp-MarkdownHeadingCollapsed": true
   },
   "source": [
    "## Oversample Data"
   ]
  },
  {
   "cell_type": "code",
   "execution_count": 90,
   "id": "e8967293-1525-4ebc-aa05-fe2bda126c21",
   "metadata": {},
   "outputs": [
    {
     "data": {
      "text/html": [
       "<div>\n",
       "<style scoped>\n",
       "    .dataframe tbody tr th:only-of-type {\n",
       "        vertical-align: middle;\n",
       "    }\n",
       "\n",
       "    .dataframe tbody tr th {\n",
       "        vertical-align: top;\n",
       "    }\n",
       "\n",
       "    .dataframe thead th {\n",
       "        text-align: right;\n",
       "    }\n",
       "</style>\n",
       "<table border=\"1\" class=\"dataframe\">\n",
       "  <thead>\n",
       "    <tr style=\"text-align: right;\">\n",
       "      <th></th>\n",
       "      <th>index</th>\n",
       "      <th>smiles</th>\n",
       "      <th>activity</th>\n",
       "      <th>HIV_active</th>\n",
       "    </tr>\n",
       "    <tr>\n",
       "      <th>index</th>\n",
       "      <th></th>\n",
       "      <th></th>\n",
       "      <th></th>\n",
       "      <th></th>\n",
       "    </tr>\n",
       "  </thead>\n",
       "  <tbody>\n",
       "    <tr>\n",
       "      <th>3999</th>\n",
       "      <td>3999</td>\n",
       "      <td>CC1c2nc(N)nc(N)c2CN1C(=O)c1ccccc1</td>\n",
       "      <td>CI</td>\n",
       "      <td>0</td>\n",
       "    </tr>\n",
       "    <tr>\n",
       "      <th>4000</th>\n",
       "      <td>4000</td>\n",
       "      <td>Cc1nc(N)c2c(n1)C(C)N(C(=O)c1ccccc1)C2</td>\n",
       "      <td>CI</td>\n",
       "      <td>0</td>\n",
       "    </tr>\n",
       "    <tr>\n",
       "      <th>4001</th>\n",
       "      <td>4001</td>\n",
       "      <td>NC(=S)NN=Cc1ccc(O)cn1</td>\n",
       "      <td>CI</td>\n",
       "      <td>0</td>\n",
       "    </tr>\n",
       "    <tr>\n",
       "      <th>4002</th>\n",
       "      <td>4002</td>\n",
       "      <td>COC1C(OC(=O)c2ccc(C)[nH]2)C(O)C(Oc2ccc3c(O)c(N...</td>\n",
       "      <td>CM</td>\n",
       "      <td>1</td>\n",
       "    </tr>\n",
       "    <tr>\n",
       "      <th>4003</th>\n",
       "      <td>4003</td>\n",
       "      <td>O=C1C=C2C=CC3CC2(O1)C1CCCCN31</td>\n",
       "      <td>CI</td>\n",
       "      <td>0</td>\n",
       "    </tr>\n",
       "  </tbody>\n",
       "</table>\n",
       "</div>"
      ],
      "text/plain": [
       "       index                                             smiles activity  \\\n",
       "index                                                                      \n",
       "3999    3999                  CC1c2nc(N)nc(N)c2CN1C(=O)c1ccccc1       CI   \n",
       "4000    4000              Cc1nc(N)c2c(n1)C(C)N(C(=O)c1ccccc1)C2       CI   \n",
       "4001    4001                              NC(=S)NN=Cc1ccc(O)cn1       CI   \n",
       "4002    4002  COC1C(OC(=O)c2ccc(C)[nH]2)C(O)C(Oc2ccc3c(O)c(N...       CM   \n",
       "4003    4003                      O=C1C=C2C=CC3CC2(O1)C1CCCCN31       CI   \n",
       "\n",
       "       HIV_active  \n",
       "index              \n",
       "3999            0  \n",
       "4000            0  \n",
       "4001            0  \n",
       "4002            1  \n",
       "4003            0  "
      ]
     },
     "execution_count": 90,
     "metadata": {},
     "output_type": "execute_result"
    }
   ],
   "source": [
    "import pandas as pd\n",
    "\n",
    "df = pd.read_csv(\"data/raw/HIV_train.csv\")\n",
    "df.index = df[\"index\"]\n",
    "df[\"HIV_active\"].value_counts()\n",
    "start_index = df.iloc[0][\"index\"]\n",
    "\n",
    "df.head()"
   ]
  },
  {
   "cell_type": "code",
   "execution_count": 92,
   "id": "b5f2c914-249d-471c-8e4f-0ff0580f47c0",
   "metadata": {},
   "outputs": [
    {
     "data": {
      "text/html": [
       "<div>\n",
       "<style scoped>\n",
       "    .dataframe tbody tr th:only-of-type {\n",
       "        vertical-align: middle;\n",
       "    }\n",
       "\n",
       "    .dataframe tbody tr th {\n",
       "        vertical-align: top;\n",
       "    }\n",
       "\n",
       "    .dataframe thead th {\n",
       "        text-align: right;\n",
       "    }\n",
       "</style>\n",
       "<table border=\"1\" class=\"dataframe\">\n",
       "  <thead>\n",
       "    <tr style=\"text-align: right;\">\n",
       "      <th></th>\n",
       "      <th>index</th>\n",
       "      <th>smiles</th>\n",
       "      <th>activity</th>\n",
       "      <th>HIV_active</th>\n",
       "    </tr>\n",
       "  </thead>\n",
       "  <tbody>\n",
       "    <tr>\n",
       "      <th>3999</th>\n",
       "      <td>3999</td>\n",
       "      <td>c1ccc(Nc2nnc(CCCCCCCCc3nnc(Nc4ccccc4)o3)o2)cc1</td>\n",
       "      <td>CI</td>\n",
       "      <td>0</td>\n",
       "    </tr>\n",
       "    <tr>\n",
       "      <th>4000</th>\n",
       "      <td>4000</td>\n",
       "      <td>O=C(C=Cc1ccc(O)c(O)c1)OC1CCCCC1OC(=O)C=Cc1ccc(...</td>\n",
       "      <td>CI</td>\n",
       "      <td>0</td>\n",
       "    </tr>\n",
       "    <tr>\n",
       "      <th>4001</th>\n",
       "      <td>4001</td>\n",
       "      <td>CCOC12CC(OC)C3(O)CC(C1C3OCc1ccccc1)C13C(OC)CC(...</td>\n",
       "      <td>CM</td>\n",
       "      <td>1</td>\n",
       "    </tr>\n",
       "    <tr>\n",
       "      <th>4002</th>\n",
       "      <td>4002</td>\n",
       "      <td>CCOC(=O)CCc1cn2cc(Br)nc(OC)c2n1</td>\n",
       "      <td>CI</td>\n",
       "      <td>0</td>\n",
       "    </tr>\n",
       "    <tr>\n",
       "      <th>4003</th>\n",
       "      <td>4003</td>\n",
       "      <td>Oc1nc2[nH]c(-c3ccc(Br)cc3)cc2c2ccccc12</td>\n",
       "      <td>CI</td>\n",
       "      <td>0</td>\n",
       "    </tr>\n",
       "  </tbody>\n",
       "</table>\n",
       "</div>"
      ],
      "text/plain": [
       "      index                                             smiles activity  \\\n",
       "3999   3999     c1ccc(Nc2nnc(CCCCCCCCc3nnc(Nc4ccccc4)o3)o2)cc1       CI   \n",
       "4000   4000  O=C(C=Cc1ccc(O)c(O)c1)OC1CCCCC1OC(=O)C=Cc1ccc(...       CI   \n",
       "4001   4001  CCOC12CC(OC)C3(O)CC(C1C3OCc1ccccc1)C13C(OC)CC(...       CM   \n",
       "4002   4002                    CCOC(=O)CCc1cn2cc(Br)nc(OC)c2n1       CI   \n",
       "4003   4003             Oc1nc2[nH]c(-c3ccc(Br)cc3)cc2c2ccccc12       CI   \n",
       "\n",
       "      HIV_active  \n",
       "3999           0  \n",
       "4000           0  \n",
       "4001           1  \n",
       "4002           0  \n",
       "4003           0  "
      ]
     },
     "execution_count": 92,
     "metadata": {},
     "output_type": "execute_result"
    }
   ],
   "source": [
    "# Check how many additional samples we need\n",
    "neg_class = df[\"HIV_active\"].value_counts()[0]\n",
    "pos_class = df[\"HIV_active\"].value_counts()[1]\n",
    "multiplier = int(neg_class / pos_class) - 1\n",
    "\n",
    "# Replicate the dataset for the positive class\n",
    "replicated_pos = [df[df[\"HIV_active\"] == 1]] * multiplier\n",
    "\n",
    "# Append replicated data\n",
    "df = pd.concat([df] + replicated_pos, ignore_index=True)\n",
    "\n",
    "# Shuffle dataset\n",
    "df = df.sample(frac=1).reset_index(drop=True)\n",
    "\n",
    "# Re-assign index (This is our ID later)\n",
    "index = range(start_index, start_index + df.shape[0])\n",
    "df.index = index\n",
    "df[\"index\"] = df.index\n",
    "df.head()"
   ]
  },
  {
   "cell_type": "code",
   "execution_count": null,
   "id": "36dce9ad-6bf3-40e5-aa78-6bde2334204c",
   "metadata": {},
   "outputs": [],
   "source": [
    "# df.to_csv(\"data/raw/HIV_train_oversampled.csv\", index=False)"
   ]
  },
  {
   "cell_type": "markdown",
   "id": "a0a0ad59-7256-4a75-b8ed-0913d61d02fb",
   "metadata": {},
   "source": [
    "## Training"
   ]
  },
  {
   "cell_type": "code",
   "execution_count": 3,
   "id": "1c764cc2-6de3-4ee2-a19a-0c86375f0cc8",
   "metadata": {},
   "outputs": [],
   "source": [
    "from project.dataset import MoleculeDataset\n",
    "from project.config import TrainingParameters\n",
    "from project.model import GNN\n",
    "from project.train import train_model"
   ]
  },
  {
   "cell_type": "code",
   "execution_count": null,
   "id": "f57f8496-5e07-46b6-addc-31ad8956c25e",
   "metadata": {},
   "outputs": [],
   "source": []
  },
  {
   "cell_type": "code",
   "execution_count": 10,
   "id": "7e31fad8-3de7-481a-a5a4-45de1a8ec183",
   "metadata": {},
   "outputs": [
    {
     "name": "stderr",
     "output_type": "stream",
     "text": [
      "\u001b[32m2023-07-23 17:06:49.460\u001b[0m | \u001b[1mINFO    \u001b[0m | \u001b[36mproject.train\u001b[0m:\u001b[36mtrain_model\u001b[0m:\u001b[36m103\u001b[0m - \u001b[1mLoading the dataset...\u001b[0m\n",
      "/home/sfriedowitz/miniconda3/envs/gnn/lib/python3.11/site-packages/torch_geometric/deprecation.py:22: UserWarning: 'data.DataLoader' is deprecated, use 'loader.DataLoader' instead\n",
      "  warnings.warn(out)\n",
      "\u001b[32m2023-07-23 17:06:51.718\u001b[0m | \u001b[1mINFO    \u001b[0m | \u001b[36mproject.train\u001b[0m:\u001b[36mtrain_model\u001b[0m:\u001b[36m120\u001b[0m - \u001b[1mConstructed model with 365633 parameters\u001b[0m\n"
     ]
    },
    {
     "ename": "TypeError",
     "evalue": "cannot assign 'float' object to buffer 'pos_weight' (torch Tensor or None required)",
     "output_type": "error",
     "traceback": [
      "\u001b[0;31m---------------------------------------------------------------------------\u001b[0m",
      "\u001b[0;31mTypeError\u001b[0m                                 Traceback (most recent call last)",
      "Cell \u001b[0;32mIn[10], line 3\u001b[0m\n\u001b[1;32m      1\u001b[0m params \u001b[38;5;241m=\u001b[39m TrainingParameters()\n\u001b[0;32m----> 3\u001b[0m \u001b[43mtrain_model\u001b[49m\u001b[43m(\u001b[49m\u001b[43mparams\u001b[49m\u001b[43m,\u001b[49m\u001b[43m \u001b[49m\u001b[43mn_epochs\u001b[49m\u001b[38;5;241;43m=\u001b[39;49m\u001b[38;5;241;43m1\u001b[39;49m\u001b[43m)\u001b[49m\n",
      "File \u001b[0;32m~/development/python/molecule_gnn/project/train.py:123\u001b[0m, in \u001b[0;36mtrain_model\u001b[0;34m(params, n_epochs)\u001b[0m\n\u001b[1;32m    120\u001b[0m logger\u001b[38;5;241m.\u001b[39minfo(\u001b[38;5;124mf\u001b[39m\u001b[38;5;124m\"\u001b[39m\u001b[38;5;124mConstructed model with \u001b[39m\u001b[38;5;132;01m{\u001b[39;00mn_params\u001b[38;5;132;01m}\u001b[39;00m\u001b[38;5;124m parameters\u001b[39m\u001b[38;5;124m\"\u001b[39m)\n\u001b[1;32m    122\u001b[0m \u001b[38;5;66;03m# Loss, optimizer, and scheduler\u001b[39;00m\n\u001b[0;32m--> 123\u001b[0m loss_fn \u001b[38;5;241m=\u001b[39m \u001b[43mBCEWithLogitsLoss\u001b[49m\u001b[43m(\u001b[49m\u001b[43mpos_weight\u001b[49m\u001b[38;5;241;43m=\u001b[39;49m\u001b[43mparams\u001b[49m\u001b[38;5;241;43m.\u001b[39;49m\u001b[43mpos_weight\u001b[49m\u001b[43m)\u001b[49m\n\u001b[1;32m    124\u001b[0m optimizer \u001b[38;5;241m=\u001b[39m SGD(\n\u001b[1;32m    125\u001b[0m     params\u001b[38;5;241m=\u001b[39mmodel\u001b[38;5;241m.\u001b[39mparameters(),\n\u001b[1;32m    126\u001b[0m     lr\u001b[38;5;241m=\u001b[39mparams\u001b[38;5;241m.\u001b[39mlearning_rate,\n\u001b[1;32m    127\u001b[0m     momentum\u001b[38;5;241m=\u001b[39mparams\u001b[38;5;241m.\u001b[39msgd_momentum,\n\u001b[1;32m    128\u001b[0m     weight_decay\u001b[38;5;241m=\u001b[39mparams\u001b[38;5;241m.\u001b[39mweight_decay,\n\u001b[1;32m    129\u001b[0m )\n\u001b[1;32m    130\u001b[0m scheduler \u001b[38;5;241m=\u001b[39m ExponentialLR(optimizer\u001b[38;5;241m=\u001b[39moptimizer, gamma\u001b[38;5;241m=\u001b[39mparams\u001b[38;5;241m.\u001b[39mscheduler_gamma)\n",
      "File \u001b[0;32m~/miniconda3/envs/gnn/lib/python3.11/site-packages/torch/nn/modules/loss.py:715\u001b[0m, in \u001b[0;36mBCEWithLogitsLoss.__init__\u001b[0;34m(self, weight, size_average, reduce, reduction, pos_weight)\u001b[0m\n\u001b[1;32m    713\u001b[0m \u001b[38;5;28msuper\u001b[39m()\u001b[38;5;241m.\u001b[39m\u001b[38;5;21m__init__\u001b[39m(size_average, reduce, reduction)\n\u001b[1;32m    714\u001b[0m \u001b[38;5;28mself\u001b[39m\u001b[38;5;241m.\u001b[39mregister_buffer(\u001b[38;5;124m'\u001b[39m\u001b[38;5;124mweight\u001b[39m\u001b[38;5;124m'\u001b[39m, weight)\n\u001b[0;32m--> 715\u001b[0m \u001b[38;5;28;43mself\u001b[39;49m\u001b[38;5;241;43m.\u001b[39;49m\u001b[43mregister_buffer\u001b[49m\u001b[43m(\u001b[49m\u001b[38;5;124;43m'\u001b[39;49m\u001b[38;5;124;43mpos_weight\u001b[39;49m\u001b[38;5;124;43m'\u001b[39;49m\u001b[43m,\u001b[49m\u001b[43m \u001b[49m\u001b[43mpos_weight\u001b[49m\u001b[43m)\u001b[49m\n\u001b[1;32m    716\u001b[0m \u001b[38;5;28mself\u001b[39m\u001b[38;5;241m.\u001b[39mweight: Optional[Tensor]\n\u001b[1;32m    717\u001b[0m \u001b[38;5;28mself\u001b[39m\u001b[38;5;241m.\u001b[39mpos_weight: Optional[Tensor]\n",
      "File \u001b[0;32m~/miniconda3/envs/gnn/lib/python3.11/site-packages/torch/nn/modules/module.py:525\u001b[0m, in \u001b[0;36mModule.register_buffer\u001b[0;34m(self, name, tensor, persistent)\u001b[0m\n\u001b[1;32m    523\u001b[0m     \u001b[38;5;28;01mraise\u001b[39;00m \u001b[38;5;167;01mKeyError\u001b[39;00m(\u001b[38;5;124m\"\u001b[39m\u001b[38;5;124mattribute \u001b[39m\u001b[38;5;124m'\u001b[39m\u001b[38;5;132;01m{}\u001b[39;00m\u001b[38;5;124m'\u001b[39m\u001b[38;5;124m already exists\u001b[39m\u001b[38;5;124m\"\u001b[39m\u001b[38;5;241m.\u001b[39mformat(name))\n\u001b[1;32m    524\u001b[0m \u001b[38;5;28;01melif\u001b[39;00m tensor \u001b[38;5;129;01mis\u001b[39;00m \u001b[38;5;129;01mnot\u001b[39;00m \u001b[38;5;28;01mNone\u001b[39;00m \u001b[38;5;129;01mand\u001b[39;00m \u001b[38;5;129;01mnot\u001b[39;00m \u001b[38;5;28misinstance\u001b[39m(tensor, torch\u001b[38;5;241m.\u001b[39mTensor):\n\u001b[0;32m--> 525\u001b[0m     \u001b[38;5;28;01mraise\u001b[39;00m \u001b[38;5;167;01mTypeError\u001b[39;00m(\u001b[38;5;124m\"\u001b[39m\u001b[38;5;124mcannot assign \u001b[39m\u001b[38;5;124m'\u001b[39m\u001b[38;5;132;01m{}\u001b[39;00m\u001b[38;5;124m'\u001b[39m\u001b[38;5;124m object to buffer \u001b[39m\u001b[38;5;124m'\u001b[39m\u001b[38;5;132;01m{}\u001b[39;00m\u001b[38;5;124m'\u001b[39m\u001b[38;5;124m \u001b[39m\u001b[38;5;124m\"\u001b[39m\n\u001b[1;32m    526\u001b[0m                     \u001b[38;5;124m\"\u001b[39m\u001b[38;5;124m(torch Tensor or None required)\u001b[39m\u001b[38;5;124m\"\u001b[39m\n\u001b[1;32m    527\u001b[0m                     \u001b[38;5;241m.\u001b[39mformat(torch\u001b[38;5;241m.\u001b[39mtypename(tensor), name))\n\u001b[1;32m    528\u001b[0m \u001b[38;5;28;01melse\u001b[39;00m:\n\u001b[1;32m    529\u001b[0m     \u001b[38;5;28;01mfor\u001b[39;00m hook \u001b[38;5;129;01min\u001b[39;00m _global_buffer_registration_hooks\u001b[38;5;241m.\u001b[39mvalues():\n",
      "\u001b[0;31mTypeError\u001b[0m: cannot assign 'float' object to buffer 'pos_weight' (torch Tensor or None required)"
     ]
    }
   ],
   "source": [
    "params = TrainingParameters()\n",
    "\n",
    "train_model(params, n_epochs=1)"
   ]
  },
  {
   "cell_type": "code",
   "execution_count": null,
   "id": "0acceca3-3404-4006-afbc-1f7a4f89a565",
   "metadata": {},
   "outputs": [],
   "source": []
  },
  {
   "cell_type": "code",
   "execution_count": null,
   "id": "1b8fa0a0-4bb6-460b-b15c-b3ca8264b3d2",
   "metadata": {},
   "outputs": [],
   "source": []
  }
 ],
 "metadata": {
  "kernelspec": {
   "display_name": "Python 3 (ipykernel)",
   "language": "python",
   "name": "python3"
  },
  "language_info": {
   "codemirror_mode": {
    "name": "ipython",
    "version": 3
   },
   "file_extension": ".py",
   "mimetype": "text/x-python",
   "name": "python",
   "nbconvert_exporter": "python",
   "pygments_lexer": "ipython3",
   "version": "3.11.4"
  }
 },
 "nbformat": 4,
 "nbformat_minor": 5
}
